{
 "cells": [
  {
   "cell_type": "code",
   "execution_count": 1,
   "metadata": {},
   "outputs": [],
   "source": [
    "import pandas as pd\n",
    "import numpy as np\n",
    "from lightgbm import LGBMRegressor\n",
    "import matplotlib.pyplot as plt\n",
    "from sklearn.ensemble import RandomForestRegressor\n",
    "from sklearn.pipeline import make_pipeline\n",
    "from sklearn.compose import make_column_transformer\n",
    "from sklearn.preprocessing import StandardScaler, PolynomialFeatures, MinMaxScaler, RobustScaler, OneHotEncoder\n",
    "from sklearn.metrics import r2_score\n",
    "import pickle"
   ]
  },
  {
   "cell_type": "code",
   "execution_count": 2,
   "metadata": {},
   "outputs": [],
   "source": [
    "df = pd.read_csv(\"../Datas/data.csv\")"
   ]
  },
  {
   "cell_type": "code",
   "execution_count": 3,
   "metadata": {},
   "outputs": [
    {
     "data": {
      "text/html": [
       "<div>\n",
       "<style scoped>\n",
       "    .dataframe tbody tr th:only-of-type {\n",
       "        vertical-align: middle;\n",
       "    }\n",
       "\n",
       "    .dataframe tbody tr th {\n",
       "        vertical-align: top;\n",
       "    }\n",
       "\n",
       "    .dataframe thead th {\n",
       "        text-align: right;\n",
       "    }\n",
       "</style>\n",
       "<table border=\"1\" class=\"dataframe\">\n",
       "  <thead>\n",
       "    <tr style=\"text-align: right;\">\n",
       "      <th></th>\n",
       "      <th>datetime</th>\n",
       "      <th>season</th>\n",
       "      <th>holiday</th>\n",
       "      <th>workingday</th>\n",
       "      <th>weather</th>\n",
       "      <th>temp</th>\n",
       "      <th>atemp</th>\n",
       "      <th>humidity</th>\n",
       "      <th>windspeed</th>\n",
       "      <th>casual</th>\n",
       "      <th>registered</th>\n",
       "      <th>count</th>\n",
       "    </tr>\n",
       "  </thead>\n",
       "  <tbody>\n",
       "    <tr>\n",
       "      <th>0</th>\n",
       "      <td>2011-01-01 00:00:00</td>\n",
       "      <td>1</td>\n",
       "      <td>0</td>\n",
       "      <td>0</td>\n",
       "      <td>1</td>\n",
       "      <td>9.84</td>\n",
       "      <td>14.395</td>\n",
       "      <td>81</td>\n",
       "      <td>0.0</td>\n",
       "      <td>3</td>\n",
       "      <td>13</td>\n",
       "      <td>16</td>\n",
       "    </tr>\n",
       "  </tbody>\n",
       "</table>\n",
       "</div>"
      ],
      "text/plain": [
       "              datetime  season  holiday  workingday  weather  temp   atemp  \\\n",
       "0  2011-01-01 00:00:00       1        0           0        1  9.84  14.395   \n",
       "\n",
       "   humidity  windspeed  casual  registered  count  \n",
       "0        81        0.0       3          13     16  "
      ]
     },
     "execution_count": 3,
     "metadata": {},
     "output_type": "execute_result"
    }
   ],
   "source": [
    "df.head(1)"
   ]
  },
  {
   "cell_type": "markdown",
   "metadata": {},
   "source": [
    "## Train Test Split"
   ]
  },
  {
   "cell_type": "code",
   "execution_count": 4,
   "metadata": {},
   "outputs": [],
   "source": [
    "# Split des données avant (train) et après(test) Septembre 2012"
   ]
  },
  {
   "cell_type": "code",
   "execution_count": 3,
   "metadata": {},
   "outputs": [],
   "source": [
    "X_train = df[(df.month <=  8) | (df.year == 2011)].drop([\"datetime\",\"count\", \"weather\"], axis=1)\n",
    "X_test = df[(df.month >  8) & (df.year == 2012)].drop([\"datetime\",\"count\"], axis=1)\n",
    "y_train = np.log1p(df[(df.month <=  8) | (df.year == 2011)][\"count\"])\n",
    "y_test = np.log1p(df[(df.month >  8) & (df.year == 2012)][\"count\"])"
   ]
  },
  {
   "cell_type": "markdown",
   "metadata": {},
   "source": [
    "## Pipelines"
   ]
  },
  {
   "cell_type": "code",
   "execution_count": 4,
   "metadata": {},
   "outputs": [],
   "source": [
    "one_hot_features = [\"holiday\", \"workingday\", \"season\", \"month\", \"day\", \"year\"]\n",
    "standard_feature = [\"temp\", \"humidity\", \"windspeed\", \"day_number\", \"hour\"]\n",
    "\n",
    "one_hot_pipeline = make_pipeline(OneHotEncoder(handle_unknown=\"ignore\"))\n",
    "standard_pipeline = make_pipeline(StandardScaler())\n",
    "\n",
    "processor = make_column_transformer((one_hot_pipeline, one_hot_features), (standard_pipeline, standard_feature))"
   ]
  },
  {
   "cell_type": "code",
   "execution_count": 5,
   "metadata": {},
   "outputs": [],
   "source": [
    "rfr = make_pipeline(processor, RandomForestRegressor(random_state=1))\n",
    "                      \n",
    "lgbm = make_pipeline(processor, LGBMRegressor(random_state=1))"
   ]
  },
  {
   "cell_type": "markdown",
   "metadata": {},
   "source": [
    "## Scoring des modèle"
   ]
  },
  {
   "cell_type": "code",
   "execution_count": null,
   "metadata": {},
   "outputs": [
    {
     "name": "stdout",
     "output_type": "stream",
     "text": [
      "Train score : 0.9939255713546519\n",
      "Test score : 0.9315536191197518\n",
      "Score R2 : 0.9315536191197518\n"
     ]
    }
   ],
   "source": [
    "rfr.fit(X_train, y_train)\n",
    "y_pred = rfr.predict(X_test)\n",
    "print(\"Train score :\",rfr.score(X_train, y_train))\n",
    "print(\"Test score :\",rfr.score(X_test, y_test))\n",
    "\n",
    "print(\"Score R2 :\", r2_score(y_test, y_pred))"
   ]
  },
  {
   "cell_type": "code",
   "execution_count": 6,
   "metadata": {},
   "outputs": [
    {
     "name": "stdout",
     "output_type": "stream",
     "text": [
      "Train score : 0.9706068097473477\n",
      "Test score : 0.9304244435387465\n",
      "Score R2 : 0.9304244435387465\n"
     ]
    }
   ],
   "source": [
    "lgbm.fit(X_train, y_train)\n",
    "yl_pred = lgbm.predict(X_test)\n",
    "print(\"Train score :\",lgbm.score(X_train, y_train))\n",
    "print(\"Test score :\",lgbm.score(X_test, y_test))\n",
    "\n",
    "print(\"Score R2 :\", r2_score(y_test, yl_pred))"
   ]
  },
  {
   "cell_type": "code",
   "execution_count": null,
   "metadata": {},
   "outputs": [],
   "source": [
    "# Trés bons scores pour les deux modèles et sans hyperparamètre avec un peu plus d'overfitting pour RandomForest"
   ]
  },
  {
   "cell_type": "code",
   "execution_count": null,
   "metadata": {},
   "outputs": [],
   "source": [
    "from sklearn.model_selection import learning_curve"
   ]
  },
  {
   "cell_type": "code",
   "execution_count": null,
   "metadata": {},
   "outputs": [
    {
     "data": {
      "text/plain": [
       "[<matplotlib.lines.Line2D at 0x242c7c10c10>]"
      ]
     },
     "execution_count": 16,
     "metadata": {},
     "output_type": "execute_result"
    },
    {
     "data": {
      "image/png": "[encoded data removed]",
      "text/plain": [
       "<Figure size 432x288 with 1 Axes>"
      ]
     },
     "metadata": {
      "needs_background": "light"
     },
     "output_type": "display_data"
    }
   ],
   "source": [
    "train_size, train_score, val_score = learning_curve(rfr, X_train, y_train, train_sizes=np.linspace(0.1,1,50), scoring=\"r2\")\n",
    "\n",
    "plt.plot(train_size, train_score.mean(axis=1))\n",
    "plt.plot(train_size, val_score.mean(axis=1))"
   ]
  },
  {
   "cell_type": "code",
   "execution_count": null,
   "metadata": {},
   "outputs": [
    {
     "data": {
      "text/plain": [
       "[<matplotlib.lines.Line2D at 0x242d241f250>]"
      ]
     },
     "execution_count": 17,
     "metadata": {},
     "output_type": "execute_result"
    },
    {
     "data": {
      "image/png": "[encoded data removed]",
      "text/plain": [
       "<Figure size 432x288 with 1 Axes>"
      ]
     },
     "metadata": {
      "needs_background": "light"
     },
     "output_type": "display_data"
    }
   ],
   "source": [
    "train_size, train_score, val_score = learning_curve(lgbm, X_train, y_train, train_sizes=np.linspace(0.1,1,50), scoring=\"r2\")\n",
    "\n",
    "plt.plot(train_size, train_score.mean(axis=1))\n",
    "plt.plot(train_size, val_score.mean(axis=1))"
   ]
  },
  {
   "cell_type": "markdown",
   "metadata": {},
   "source": [
    "## Test de toutes les métriques"
   ]
  },
  {
   "cell_type": "code",
   "execution_count": null,
   "metadata": {},
   "outputs": [],
   "source": [
    "from sklearn.metrics import r2_score, mean_absolute_error, mean_squared_error, median_absolute_error"
   ]
  },
  {
   "cell_type": "code",
   "execution_count": null,
   "metadata": {},
   "outputs": [],
   "source": [
    "def metrics(y_test, y_pred):\n",
    "    print(\"r2 :\", r2_score(y_test,y_pred))\n",
    "    print(\"MAE :\", mean_absolute_error(np.exp(y_test),np.exp(y_pred)))\n",
    "    print(\"MSE :\", mean_squared_error(np.exp(y_test),np.exp(y_pred)))\n",
    "    print(\"MeAE :\", median_absolute_error(np.exp(y_test),np.exp(y_pred)))"
   ]
  },
  {
   "cell_type": "code",
   "execution_count": null,
   "metadata": {},
   "outputs": [
    {
     "name": "stdout",
     "output_type": "stream",
     "text": [
      "         RFR :\n",
      "r2 : 0.9315536191197518\n",
      "MAE : 50.76202840739552\n",
      "MSE : 6485.460901724803\n",
      "MeAE : 27.141713867350063\n"
     ]
    }
   ],
   "source": [
    "print(\"         RFR :\")\n",
    "metrics(y_test=y_test, y_pred=y_pred)"
   ]
  },
  {
   "cell_type": "code",
   "execution_count": null,
   "metadata": {},
   "outputs": [
    {
     "name": "stdout",
     "output_type": "stream",
     "text": [
      "         LGBM :\n",
      "r2 : 0.948016894587881\n",
      "MAE : 43.976077195121846\n",
      "MSE : 5229.002819851781\n",
      "MeAE : 22.53345571492821\n"
     ]
    }
   ],
   "source": [
    "print(\"         LGBM :\")\n",
    "metrics(y_test=y_test, y_pred=yl_pred)"
   ]
  },
  {
   "cell_type": "code",
   "execution_count": null,
   "metadata": {},
   "outputs": [
    {
     "data": {
      "text/plain": [
       "Text(0.5, 1.0, 'Prédiction avec le modèle RandomForestRegressor')"
      ]
     },
     "execution_count": 22,
     "metadata": {},
     "output_type": "execute_result"
    },
    {
     "data": {
      "image/png": "[encoded data removed]",
      "text/plain": [
       "<Figure size 1440x720 with 2 Axes>"
      ]
     },
     "metadata": {
      "needs_background": "light"
     },
     "output_type": "display_data"
    }
   ],
   "source": [
    "fig, ax = plt.subplots(1,2, figsize=(20, 10))\n",
    "ax[0].scatter(np.exp(yl_pred), np.exp(y_test))\n",
    "ax[0].plot(np.exp(y_test), np.exp(y_test), c=\"r\")\n",
    "ax[0].set_xlabel(\"Y réel\")\n",
    "ax[0].set_ylabel(\"Y prédit\")\n",
    "ax[0].set_title(\"Prédiction avec le modèle LightGBMRegressor\")\n",
    "ax[1].scatter(np.exp(y_pred), np.exp(y_test))\n",
    "ax[1].plot(np.exp(y_test), np.exp(y_test), c=\"r\")\n",
    "ax[1].set_xlabel(\"Y réel\")\n",
    "ax[1].set_ylabel(\"Y prédit\")\n",
    "ax[1].set_title(\"Prédiction avec le modèle RandomForestRegressor\")"
   ]
  },
  {
   "cell_type": "markdown",
   "metadata": {},
   "source": [
    "## Test de toutes les métriques"
   ]
  },
  {
   "cell_type": "code",
   "execution_count": null,
   "metadata": {},
   "outputs": [],
   "source": [
    "# Le modèle LightGBM a tendance à surévaluer le nombre d'utilisateurs de 45 en moyenne par heure."
   ]
  },
  {
   "cell_type": "code",
   "execution_count": null,
   "metadata": {},
   "outputs": [
    {
     "name": "stdout",
     "output_type": "stream",
     "text": [
      "236.06612844582838\n"
     ]
    }
   ],
   "source": [
    "print(max(np.exp(yl_pred)-np.exp(y_test)))"
   ]
  },
  {
   "cell_type": "markdown",
   "metadata": {},
   "source": [
    "## Prédictions"
   ]
  },
  {
   "cell_type": "code",
   "execution_count": null,
   "metadata": {},
   "outputs": [],
   "source": [
    "def make_prediction(y, model):\n",
    "    pred = np.array(y)\n",
    "    data_pred = pd.DataFrame(pred, columns=list(X_train.columns))\n",
    "    for col in list(data_pred.columns):\n",
    "        try:\n",
    "            data_pred[col] = data_pred[col].astype(float)\n",
    "        except:\n",
    "            pass\n",
    "    return np.exp(model.predict(data_pred))"
   ]
  },
  {
   "cell_type": "code",
   "execution_count": null,
   "metadata": {},
   "outputs": [
    {
     "name": "stdout",
     "output_type": "stream",
     "text": [
      "[269.12233544 294.03133136 268.66024518]\n",
      "[338.14838561 211.94094152 338.14838561]\n"
     ]
    }
   ],
   "source": [
    "print(make_prediction(y=[[4, 1, 0, 1, 25, 30, 20, \"Monday\", 4, 4370, 2022, 10],\n",
    "                [4, 1, 0, 1, 25, 30, 20, \"Monday\", 4, 360, 2011, 10],\n",
    "                [4, 1, 0, 1, 25, 30, 20, \"Monday\", 4, 725, 2012, 10]], model=rfr))\n",
    "                \n",
    "print(make_prediction(y=[[4, 1, 0, 1, 25, 30, 20, \"Monday\", 4, 4370, 2022, 10],\n",
    "                [4, 1, 0, 1, 25, 30, 20, \"Monday\", 4, 360, 2011, 10],\n",
    "                [4, 1, 0, 1, 25, 30, 20, \"Monday\", 4, 725, 2012, 10]],model=lgbm))"
   ]
  },
  {
   "cell_type": "markdown",
   "metadata": {},
   "source": [
    "## Comparaison des données avec de grands écarts"
   ]
  },
  {
   "cell_type": "code",
   "execution_count": null,
   "metadata": {},
   "outputs": [],
   "source": [
    "df_pred = X_test\n",
    "df_pred[\"y_reel\"] = np.exp(np.array(y_test))\n",
    "df_pred[\"y_pred\"] = np.exp(yl_pred)\n",
    "df_pred[\"Ecart\"] = df_pred[\"y_reel\"]- df_pred[\"y_pred\"]"
   ]
  },
  {
   "cell_type": "code",
   "execution_count": null,
   "metadata": {},
   "outputs": [
    {
     "data": {
      "text/html": [
       "<div>\n",
       "<style scoped>\n",
       "    .dataframe tbody tr th:only-of-type {\n",
       "        vertical-align: middle;\n",
       "    }\n",
       "\n",
       "    .dataframe tbody tr th {\n",
       "        vertical-align: top;\n",
       "    }\n",
       "\n",
       "    .dataframe thead th {\n",
       "        text-align: right;\n",
       "    }\n",
       "</style>\n",
       "<table border=\"1\" class=\"dataframe\">\n",
       "  <thead>\n",
       "    <tr style=\"text-align: right;\">\n",
       "      <th></th>\n",
       "      <th>season</th>\n",
       "      <th>holiday</th>\n",
       "      <th>workingday</th>\n",
       "      <th>weather</th>\n",
       "      <th>temp</th>\n",
       "      <th>humidity</th>\n",
       "      <th>windspeed</th>\n",
       "      <th>month</th>\n",
       "      <th>day_number</th>\n",
       "      <th>year</th>\n",
       "      <th>hour</th>\n",
       "      <th>y_reel</th>\n",
       "      <th>y_pred</th>\n",
       "      <th>Ecart</th>\n",
       "    </tr>\n",
       "  </thead>\n",
       "  <tbody>\n",
       "    <tr>\n",
       "      <th>count</th>\n",
       "      <td>56.000000</td>\n",
       "      <td>56.000000</td>\n",
       "      <td>56.000000</td>\n",
       "      <td>56.000000</td>\n",
       "      <td>56.000000</td>\n",
       "      <td>56.000000</td>\n",
       "      <td>56.000000</td>\n",
       "      <td>56.000000</td>\n",
       "      <td>56.000000</td>\n",
       "      <td>56.0</td>\n",
       "      <td>56.000000</td>\n",
       "      <td>56.000000</td>\n",
       "      <td>56.000000</td>\n",
       "      <td>56.000000</td>\n",
       "    </tr>\n",
       "    <tr>\n",
       "      <th>mean</th>\n",
       "      <td>3.803571</td>\n",
       "      <td>0.035714</td>\n",
       "      <td>0.839286</td>\n",
       "      <td>1.892857</td>\n",
       "      <td>21.466429</td>\n",
       "      <td>70.410714</td>\n",
       "      <td>12.625432</td>\n",
       "      <td>10.250000</td>\n",
       "      <td>655.196429</td>\n",
       "      <td>2012.0</td>\n",
       "      <td>12.982143</td>\n",
       "      <td>676.821429</td>\n",
       "      <td>424.839891</td>\n",
       "      <td>251.981537</td>\n",
       "    </tr>\n",
       "    <tr>\n",
       "      <th>std</th>\n",
       "      <td>0.400892</td>\n",
       "      <td>0.187256</td>\n",
       "      <td>0.370591</td>\n",
       "      <td>0.778777</td>\n",
       "      <td>4.804610</td>\n",
       "      <td>17.291907</td>\n",
       "      <td>8.317612</td>\n",
       "      <td>0.958218</td>\n",
       "      <td>29.483074</td>\n",
       "      <td>0.0</td>\n",
       "      <td>4.908216</td>\n",
       "      <td>181.669941</td>\n",
       "      <td>175.161140</td>\n",
       "      <td>89.644017</td>\n",
       "    </tr>\n",
       "    <tr>\n",
       "      <th>min</th>\n",
       "      <td>3.000000</td>\n",
       "      <td>0.000000</td>\n",
       "      <td>0.000000</td>\n",
       "      <td>1.000000</td>\n",
       "      <td>12.300000</td>\n",
       "      <td>28.000000</td>\n",
       "      <td>0.000000</td>\n",
       "      <td>9.000000</td>\n",
       "      <td>610.000000</td>\n",
       "      <td>2012.0</td>\n",
       "      <td>0.000000</td>\n",
       "      <td>234.000000</td>\n",
       "      <td>24.715554</td>\n",
       "      <td>-236.066128</td>\n",
       "    </tr>\n",
       "    <tr>\n",
       "      <th>25%</th>\n",
       "      <td>4.000000</td>\n",
       "      <td>0.000000</td>\n",
       "      <td>1.000000</td>\n",
       "      <td>1.000000</td>\n",
       "      <td>17.835000</td>\n",
       "      <td>57.750000</td>\n",
       "      <td>7.001500</td>\n",
       "      <td>10.000000</td>\n",
       "      <td>640.000000</td>\n",
       "      <td>2012.0</td>\n",
       "      <td>8.000000</td>\n",
       "      <td>560.750000</td>\n",
       "      <td>270.384534</td>\n",
       "      <td>211.350080</td>\n",
       "    </tr>\n",
       "    <tr>\n",
       "      <th>50%</th>\n",
       "      <td>4.000000</td>\n",
       "      <td>0.000000</td>\n",
       "      <td>1.000000</td>\n",
       "      <td>2.000000</td>\n",
       "      <td>21.320000</td>\n",
       "      <td>75.000000</td>\n",
       "      <td>11.001400</td>\n",
       "      <td>10.000000</td>\n",
       "      <td>649.000000</td>\n",
       "      <td>2012.0</td>\n",
       "      <td>14.500000</td>\n",
       "      <td>722.500000</td>\n",
       "      <td>464.568792</td>\n",
       "      <td>244.822531</td>\n",
       "    </tr>\n",
       "    <tr>\n",
       "      <th>75%</th>\n",
       "      <td>4.000000</td>\n",
       "      <td>0.000000</td>\n",
       "      <td>1.000000</td>\n",
       "      <td>2.250000</td>\n",
       "      <td>25.420000</td>\n",
       "      <td>84.000000</td>\n",
       "      <td>17.498725</td>\n",
       "      <td>11.000000</td>\n",
       "      <td>671.500000</td>\n",
       "      <td>2012.0</td>\n",
       "      <td>17.000000</td>\n",
       "      <td>812.000000</td>\n",
       "      <td>548.466014</td>\n",
       "      <td>286.632244</td>\n",
       "    </tr>\n",
       "    <tr>\n",
       "      <th>max</th>\n",
       "      <td>4.000000</td>\n",
       "      <td>1.000000</td>\n",
       "      <td>1.000000</td>\n",
       "      <td>3.000000</td>\n",
       "      <td>31.160000</td>\n",
       "      <td>94.000000</td>\n",
       "      <td>36.997400</td>\n",
       "      <td>12.000000</td>\n",
       "      <td>716.000000</td>\n",
       "      <td>2012.0</td>\n",
       "      <td>21.000000</td>\n",
       "      <td>971.000000</td>\n",
       "      <td>768.209625</td>\n",
       "      <td>471.007702</td>\n",
       "    </tr>\n",
       "  </tbody>\n",
       "</table>\n",
       "</div>"
      ],
      "text/plain": [
       "          season    holiday  workingday    weather       temp   humidity  \\\n",
       "count  56.000000  56.000000   56.000000  56.000000  56.000000  56.000000   \n",
       "mean    3.803571   0.035714    0.839286   1.892857  21.466429  70.410714   \n",
       "std     0.400892   0.187256    0.370591   0.778777   4.804610  17.291907   \n",
       "min     3.000000   0.000000    0.000000   1.000000  12.300000  28.000000   \n",
       "25%     4.000000   0.000000    1.000000   1.000000  17.835000  57.750000   \n",
       "50%     4.000000   0.000000    1.000000   2.000000  21.320000  75.000000   \n",
       "75%     4.000000   0.000000    1.000000   2.250000  25.420000  84.000000   \n",
       "max     4.000000   1.000000    1.000000   3.000000  31.160000  94.000000   \n",
       "\n",
       "       windspeed      month  day_number    year       hour      y_reel  \\\n",
       "count  56.000000  56.000000   56.000000    56.0  56.000000   56.000000   \n",
       "mean   12.625432  10.250000  655.196429  2012.0  12.982143  676.821429   \n",
       "std     8.317612   0.958218   29.483074     0.0   4.908216  181.669941   \n",
       "min     0.000000   9.000000  610.000000  2012.0   0.000000  234.000000   \n",
       "25%     7.001500  10.000000  640.000000  2012.0   8.000000  560.750000   \n",
       "50%    11.001400  10.000000  649.000000  2012.0  14.500000  722.500000   \n",
       "75%    17.498725  11.000000  671.500000  2012.0  17.000000  812.000000   \n",
       "max    36.997400  12.000000  716.000000  2012.0  21.000000  971.000000   \n",
       "\n",
       "           y_pred       Ecart  \n",
       "count   56.000000   56.000000  \n",
       "mean   424.839891  251.981537  \n",
       "std    175.161140   89.644017  \n",
       "min     24.715554 -236.066128  \n",
       "25%    270.384534  211.350080  \n",
       "50%    464.568792  244.822531  \n",
       "75%    548.466014  286.632244  \n",
       "max    768.209625  471.007702  "
      ]
     },
     "execution_count": 28,
     "metadata": {},
     "output_type": "execute_result"
    }
   ],
   "source": [
    "df_pred[abs(df_pred[\"Ecart\"]) > 200].describe()"
   ]
  },
  {
   "cell_type": "code",
   "execution_count": null,
   "metadata": {},
   "outputs": [
    {
     "data": {
      "text/plain": [
       "<AxesSubplot:>"
      ]
     },
     "execution_count": 29,
     "metadata": {},
     "output_type": "execute_result"
    },
    {
     "data": {
      "image/png": "[encoded data removed]",
      "text/plain": [
       "<Figure size 1152x720 with 1 Axes>"
      ]
     },
     "metadata": {
      "needs_background": "light"
     },
     "output_type": "display_data"
    }
   ],
   "source": [
    "df_pred[abs(df_pred[\"Ecart\"]) > 200][[\"humidity\", \"temp\", \"hour\", \"windspeed\"]].boxplot(figsize=(16,10))"
   ]
  },
  {
   "cell_type": "code",
   "execution_count": null,
   "metadata": {},
   "outputs": [],
   "source": [
    "# Les valeurs d'humidité sont élevées en moyenne (70.4 %) pour de grands écarts de prédiction."
   ]
  },
  {
   "cell_type": "markdown",
   "metadata": {},
   "source": [
    "## Optimisation LightGBMRegressor"
   ]
  },
  {
   "cell_type": "code",
   "execution_count": null,
   "metadata": {},
   "outputs": [],
   "source": [
    "lgbm2 = make_pipeline(processor, LGBMRegressor(random_state=1))"
   ]
  },
  {
   "cell_type": "code",
   "execution_count": null,
   "metadata": {},
   "outputs": [],
   "source": [
    "from sklearn.model_selection import GridSearchCV"
   ]
  },
  {
   "cell_type": "code",
   "execution_count": null,
   "metadata": {},
   "outputs": [
    {
     "name": "stdout",
     "output_type": "stream",
     "text": [
      "{'lgbmregressor__class_weight': None, 'lgbmregressor__colsample_bytree': 1.0, 'lgbmregressor__reg_alpha': 0.4, 'lgbmregressor__reg_lambda': 0.01}\n",
      "Train score : 0.9698396547454684\n",
      "Test score : 0.94006295198109\n"
     ]
    }
   ],
   "source": [
    "lgbm_params =  {\"lgbmregressor__reg_lambda\": [0.01,0.025,0.05,0.075,0.1],\n",
    "                \"lgbmregressor__reg_alpha\": [0.2,0.4,0.5,0.6,0.7],\n",
    "                \"lgbmregressor__class_weight\": [None,\"balanced\"],\n",
    "                \"lgbmregressor__colsample_bytree\": [0.5,0.7,0.9,1.0]}\n",
    "grid_lgbm = GridSearchCV(lgbm2, lgbm_params, cv=5, scoring=\"r2\")\n",
    "grid_lgbm.fit(X_train, y_train)\n",
    "best_model = grid_lgbm.best_estimator_\n",
    "print(grid_lgbm.best_params_)\n",
    "print(\"Train score :\",best_model.score(X_train, y_train))\n",
    "print(\"Test score :\",best_model.score(X_test, y_test))"
   ]
  },
  {
   "cell_type": "code",
   "execution_count": null,
   "metadata": {},
   "outputs": [
    {
     "name": "stdout",
     "output_type": "stream",
     "text": [
      "Train score : 0.9698396547454684\n",
      "Test score : 0.94006295198109\n"
     ]
    },
    {
     "data": {
      "image/png": "[encoded data removed]",
      "text/plain": [
       "<Figure size 432x288 with 1 Axes>"
      ]
     },
     "metadata": {
      "needs_background": "light"
     },
     "output_type": "display_data"
    }
   ],
   "source": [
    "train_size, train_score, val_score = learning_curve(best_model, X_train, y_train, train_sizes=np.linspace(0.1,1,50), cv=3, scoring=\"r2\")\n",
    "\n",
    "plt.plot(train_size, train_score.mean(axis=1))\n",
    "plt.plot(train_size, val_score.mean(axis=1))\n",
    "\n",
    "print(\"Train score :\", best_model.score(X_train, y_train))\n",
    "print(\"Test score :\", best_model.score(X_test, y_test))"
   ]
  },
  {
   "cell_type": "markdown",
   "metadata": {},
   "source": [
    "Les paramètres de base sont les meilleurs en terme de R²"
   ]
  },
  {
   "cell_type": "markdown",
   "metadata": {},
   "source": [
    "## Création d'un fichier pickle"
   ]
  },
  {
   "cell_type": "code",
   "execution_count": 7,
   "metadata": {},
   "outputs": [],
   "source": [
    "filename = \"modele.sav\"\n",
    "pickle.dump(lgbm, open(filename,'wb'))"
   ]
  },
  {
   "cell_type": "code",
   "execution_count": 21,
   "metadata": {},
   "outputs": [
    {
     "data": {
      "text/plain": [
       "array([  6.46877531,   3.42619827,   1.88639897, ..., 157.28553   ,\n",
       "       102.85983336,  69.49038347])"
      ]
     },
     "execution_count": 21,
     "metadata": {},
     "output_type": "execute_result"
    }
   ],
   "source": [
    "df_test = pd.read_csv(\"../Datas/data_test.csv\")\n",
    "model = pickle.load(open(\"modele.sav\",\"rb\"))\n",
    "np.exp(model.predict(df_test))-1"
   ]
  }
 ],
 "metadata": {
  "interpreter": {
   "hash": "e8e72ecd218193d245fb3b010d45ad55dac7ff54b5052aa4883c6a911d9d65f6"
  },
  "kernelspec": {
   "display_name": "Python 3.9.7 ('rb_ds')",
   "language": "python",
   "name": "python3"
  },
  "language_info": {
   "codemirror_mode": {
    "name": "ipython",
    "version": 3
   },
   "file_extension": ".py",
   "mimetype": "text/x-python",
   "name": "python",
   "nbconvert_exporter": "python",
   "pygments_lexer": "ipython3",
   "version": "3.10.2"
  },
  "orig_nbformat": 4
 },
 "nbformat": 4,
 "nbformat_minor": 2
}
